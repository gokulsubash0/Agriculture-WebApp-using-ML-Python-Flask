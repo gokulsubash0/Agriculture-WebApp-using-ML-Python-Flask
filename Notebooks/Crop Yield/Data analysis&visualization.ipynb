{
 "cells": [
  {
   "cell_type": "code",
   "execution_count": 1,
   "metadata": {},
   "outputs": [],
   "source": [
    "import numpy as np\n",
    "import pandas as pd\n",
    "import matplotlib.pyplot as plt\n",
    "import seaborn as sns"
   ]
  },
  {
   "cell_type": "code",
   "execution_count": 2,
   "metadata": {},
   "outputs": [
    {
     "data": {
      "text/html": [
       "<div>\n",
       "<style scoped>\n",
       "    .dataframe tbody tr th:only-of-type {\n",
       "        vertical-align: middle;\n",
       "    }\n",
       "\n",
       "    .dataframe tbody tr th {\n",
       "        vertical-align: top;\n",
       "    }\n",
       "\n",
       "    .dataframe thead th {\n",
       "        text-align: right;\n",
       "    }\n",
       "</style>\n",
       "<table border=\"1\" class=\"dataframe\">\n",
       "  <thead>\n",
       "    <tr style=\"text-align: right;\">\n",
       "      <th></th>\n",
       "      <th>State_Name</th>\n",
       "      <th>District_Name</th>\n",
       "      <th>Crop_Year</th>\n",
       "      <th>Season</th>\n",
       "      <th>Crop</th>\n",
       "      <th>Area</th>\n",
       "      <th>Production</th>\n",
       "    </tr>\n",
       "  </thead>\n",
       "  <tbody>\n",
       "    <tr>\n",
       "      <th>0</th>\n",
       "      <td>Kerala</td>\n",
       "      <td>ALAPPUZHA</td>\n",
       "      <td>1997</td>\n",
       "      <td>Whole Year</td>\n",
       "      <td>Arecanut</td>\n",
       "      <td>2253.00</td>\n",
       "      <td>1518.0</td>\n",
       "    </tr>\n",
       "    <tr>\n",
       "      <th>1</th>\n",
       "      <td>Kerala</td>\n",
       "      <td>ALAPPUZHA</td>\n",
       "      <td>1997</td>\n",
       "      <td>Whole Year</td>\n",
       "      <td>Black pepper</td>\n",
       "      <td>2235.00</td>\n",
       "      <td>248.0</td>\n",
       "    </tr>\n",
       "    <tr>\n",
       "      <th>2</th>\n",
       "      <td>Kerala</td>\n",
       "      <td>ALAPPUZHA</td>\n",
       "      <td>1997</td>\n",
       "      <td>Whole Year</td>\n",
       "      <td>Cashewnut</td>\n",
       "      <td>7205.00</td>\n",
       "      <td>2358.0</td>\n",
       "    </tr>\n",
       "    <tr>\n",
       "      <th>3</th>\n",
       "      <td>Kerala</td>\n",
       "      <td>ALAPPUZHA</td>\n",
       "      <td>1997</td>\n",
       "      <td>Whole Year</td>\n",
       "      <td>Coconut</td>\n",
       "      <td>77893.00</td>\n",
       "      <td>399000.0</td>\n",
       "    </tr>\n",
       "    <tr>\n",
       "      <th>4</th>\n",
       "      <td>Kerala</td>\n",
       "      <td>ALAPPUZHA</td>\n",
       "      <td>1997</td>\n",
       "      <td>Whole Year</td>\n",
       "      <td>Tapioca</td>\n",
       "      <td>3911.00</td>\n",
       "      <td>74110.0</td>\n",
       "    </tr>\n",
       "    <tr>\n",
       "      <th>...</th>\n",
       "      <td>...</td>\n",
       "      <td>...</td>\n",
       "      <td>...</td>\n",
       "      <td>...</td>\n",
       "      <td>...</td>\n",
       "      <td>...</td>\n",
       "      <td>...</td>\n",
       "    </tr>\n",
       "    <tr>\n",
       "      <th>4256</th>\n",
       "      <td>Kerala</td>\n",
       "      <td>WAYANAD</td>\n",
       "      <td>2014</td>\n",
       "      <td>Whole Year</td>\n",
       "      <td>Sugarcane</td>\n",
       "      <td>0.75</td>\n",
       "      <td>NaN</td>\n",
       "    </tr>\n",
       "    <tr>\n",
       "      <th>4257</th>\n",
       "      <td>Kerala</td>\n",
       "      <td>WAYANAD</td>\n",
       "      <td>2014</td>\n",
       "      <td>Whole Year</td>\n",
       "      <td>Sweet potato</td>\n",
       "      <td>8.00</td>\n",
       "      <td>127.0</td>\n",
       "    </tr>\n",
       "    <tr>\n",
       "      <th>4258</th>\n",
       "      <td>Kerala</td>\n",
       "      <td>WAYANAD</td>\n",
       "      <td>2014</td>\n",
       "      <td>Whole Year</td>\n",
       "      <td>Tapioca</td>\n",
       "      <td>2327.00</td>\n",
       "      <td>99788.0</td>\n",
       "    </tr>\n",
       "    <tr>\n",
       "      <th>4259</th>\n",
       "      <td>Kerala</td>\n",
       "      <td>WAYANAD</td>\n",
       "      <td>2014</td>\n",
       "      <td>Whole Year</td>\n",
       "      <td>Turmeric</td>\n",
       "      <td>161.00</td>\n",
       "      <td>481.0</td>\n",
       "    </tr>\n",
       "    <tr>\n",
       "      <th>4260</th>\n",
       "      <td>Kerala</td>\n",
       "      <td>WAYANAD</td>\n",
       "      <td>2014</td>\n",
       "      <td>Winter</td>\n",
       "      <td>Rice</td>\n",
       "      <td>8651.00</td>\n",
       "      <td>23324.0</td>\n",
       "    </tr>\n",
       "  </tbody>\n",
       "</table>\n",
       "<p>4261 rows × 7 columns</p>\n",
       "</div>"
      ],
      "text/plain": [
       "     State_Name District_Name  Crop_Year       Season          Crop      Area  \\\n",
       "0        Kerala     ALAPPUZHA       1997  Whole Year       Arecanut   2253.00   \n",
       "1        Kerala     ALAPPUZHA       1997  Whole Year   Black pepper   2235.00   \n",
       "2        Kerala     ALAPPUZHA       1997  Whole Year      Cashewnut   7205.00   \n",
       "3        Kerala     ALAPPUZHA       1997  Whole Year       Coconut   77893.00   \n",
       "4        Kerala     ALAPPUZHA       1997  Whole Year        Tapioca   3911.00   \n",
       "...         ...           ...        ...          ...           ...       ...   \n",
       "4256     Kerala       WAYANAD       2014  Whole Year      Sugarcane      0.75   \n",
       "4257     Kerala       WAYANAD       2014  Whole Year   Sweet potato      8.00   \n",
       "4258     Kerala       WAYANAD       2014  Whole Year        Tapioca   2327.00   \n",
       "4259     Kerala       WAYANAD       2014  Whole Year       Turmeric    161.00   \n",
       "4260     Kerala       WAYANAD       2014  Winter               Rice   8651.00   \n",
       "\n",
       "      Production  \n",
       "0         1518.0  \n",
       "1          248.0  \n",
       "2         2358.0  \n",
       "3       399000.0  \n",
       "4        74110.0  \n",
       "...          ...  \n",
       "4256         NaN  \n",
       "4257       127.0  \n",
       "4258     99788.0  \n",
       "4259       481.0  \n",
       "4260     23324.0  \n",
       "\n",
       "[4261 rows x 7 columns]"
      ]
     },
     "execution_count": 2,
     "metadata": {},
     "output_type": "execute_result"
    }
   ],
   "source": [
    "crop_data=pd.read_csv(\"ker.csv\")\n",
    "crop_data"
   ]
  },
  {
   "cell_type": "code",
   "execution_count": 3,
   "metadata": {},
   "outputs": [
    {
     "data": {
      "text/plain": [
       "(4261, 7)"
      ]
     },
     "execution_count": 3,
     "metadata": {},
     "output_type": "execute_result"
    }
   ],
   "source": [
    "crop_data.shape"
   ]
  },
  {
   "cell_type": "code",
   "execution_count": 4,
   "metadata": {},
   "outputs": [
    {
     "data": {
      "text/html": [
       "<div>\n",
       "<style scoped>\n",
       "    .dataframe tbody tr th:only-of-type {\n",
       "        vertical-align: middle;\n",
       "    }\n",
       "\n",
       "    .dataframe tbody tr th {\n",
       "        vertical-align: top;\n",
       "    }\n",
       "\n",
       "    .dataframe thead th {\n",
       "        text-align: right;\n",
       "    }\n",
       "</style>\n",
       "<table border=\"1\" class=\"dataframe\">\n",
       "  <thead>\n",
       "    <tr style=\"text-align: right;\">\n",
       "      <th></th>\n",
       "      <th>Crop_Year</th>\n",
       "      <th>Area</th>\n",
       "      <th>Production</th>\n",
       "    </tr>\n",
       "  </thead>\n",
       "  <tbody>\n",
       "    <tr>\n",
       "      <th>count</th>\n",
       "      <td>4261.00000</td>\n",
       "      <td>4261.000000</td>\n",
       "      <td>4.003000e+03</td>\n",
       "    </tr>\n",
       "    <tr>\n",
       "      <th>mean</th>\n",
       "      <td>2005.84675</td>\n",
       "      <td>7488.400218</td>\n",
       "      <td>2.445167e+07</td>\n",
       "    </tr>\n",
       "    <tr>\n",
       "      <th>std</th>\n",
       "      <td>5.01928</td>\n",
       "      <td>17920.826657</td>\n",
       "      <td>1.169061e+08</td>\n",
       "    </tr>\n",
       "    <tr>\n",
       "      <th>min</th>\n",
       "      <td>1997.00000</td>\n",
       "      <td>0.040000</td>\n",
       "      <td>0.000000e+00</td>\n",
       "    </tr>\n",
       "    <tr>\n",
       "      <th>25%</th>\n",
       "      <td>2002.00000</td>\n",
       "      <td>106.000000</td>\n",
       "      <td>2.320000e+02</td>\n",
       "    </tr>\n",
       "    <tr>\n",
       "      <th>50%</th>\n",
       "      <td>2005.00000</td>\n",
       "      <td>1387.000000</td>\n",
       "      <td>1.690000e+03</td>\n",
       "    </tr>\n",
       "    <tr>\n",
       "      <th>75%</th>\n",
       "      <td>2011.00000</td>\n",
       "      <td>5651.000000</td>\n",
       "      <td>1.696650e+04</td>\n",
       "    </tr>\n",
       "    <tr>\n",
       "      <th>max</th>\n",
       "      <td>2014.00000</td>\n",
       "      <td>137554.000000</td>\n",
       "      <td>1.125000e+09</td>\n",
       "    </tr>\n",
       "  </tbody>\n",
       "</table>\n",
       "</div>"
      ],
      "text/plain": [
       "        Crop_Year           Area    Production\n",
       "count  4261.00000    4261.000000  4.003000e+03\n",
       "mean   2005.84675    7488.400218  2.445167e+07\n",
       "std       5.01928   17920.826657  1.169061e+08\n",
       "min    1997.00000       0.040000  0.000000e+00\n",
       "25%    2002.00000     106.000000  2.320000e+02\n",
       "50%    2005.00000    1387.000000  1.690000e+03\n",
       "75%    2011.00000    5651.000000  1.696650e+04\n",
       "max    2014.00000  137554.000000  1.125000e+09"
      ]
     },
     "execution_count": 4,
     "metadata": {},
     "output_type": "execute_result"
    }
   ],
   "source": [
    "crop_data.describe()"
   ]
  },
  {
   "cell_type": "code",
   "execution_count": 5,
   "metadata": {},
   "outputs": [
    {
     "name": "stdout",
     "output_type": "stream",
     "text": [
      "['Arecanut' 'Black pepper' 'Cashewnut' 'Coconut ' 'Tapioca' 'Rice'\n",
      " 'Sesamum' 'Banana' 'Dry ginger' 'Sugarcane' 'Sweet potato' 'Turmeric'\n",
      " 'Rubber' 'Bhindi' 'Bitter Gourd' 'Brinjal' 'Cashewnut Raw' 'Drum Stick'\n",
      " 'Jack Fruit' 'Mango' 'Other Fresh Fruits' 'other oilseeds'\n",
      " 'Other Vegetables' 'Papaya' 'Pineapple' 'Snak Guard' 'Small millets'\n",
      " 'Ragi' 'Potato' 'Cowpea(Lobia)' 'Moong(Green Gram)' 'Pump Kin'\n",
      " 'Dry chillies' 'Tea' 'Jowar' 'Cardamom' 'Garlic' 'Coffee'\n",
      " 'Other Cereals & Millets' 'Cotton(lint)' 'Arhar/Tur' 'Maize' 'Wheat'\n",
      " 'Onion' 'Blackgram' 'Horse-gram' 'Tobacco' 'Groundnut' 'Soyabean']\n"
     ]
    }
   ],
   "source": [
    "print(crop_data['Crop'].unique())"
   ]
  },
  {
   "cell_type": "code",
   "execution_count": 6,
   "metadata": {},
   "outputs": [
    {
     "data": {
      "text/plain": [
       "State_Name         0\n",
       "District_Name      0\n",
       "Crop_Year          0\n",
       "Season             0\n",
       "Crop               0\n",
       "Area               0\n",
       "Production       258\n",
       "dtype: int64"
      ]
     },
     "execution_count": 6,
     "metadata": {},
     "output_type": "execute_result"
    }
   ],
   "source": [
    "crop_data.isnull().sum()"
   ]
  },
  {
   "cell_type": "code",
   "execution_count": 7,
   "metadata": {},
   "outputs": [
    {
     "data": {
      "text/html": [
       "<div>\n",
       "<style scoped>\n",
       "    .dataframe tbody tr th:only-of-type {\n",
       "        vertical-align: middle;\n",
       "    }\n",
       "\n",
       "    .dataframe tbody tr th {\n",
       "        vertical-align: top;\n",
       "    }\n",
       "\n",
       "    .dataframe thead th {\n",
       "        text-align: right;\n",
       "    }\n",
       "</style>\n",
       "<table border=\"1\" class=\"dataframe\">\n",
       "  <thead>\n",
       "    <tr style=\"text-align: right;\">\n",
       "      <th></th>\n",
       "      <th>State_Name</th>\n",
       "      <th>District_Name</th>\n",
       "      <th>Crop_Year</th>\n",
       "      <th>Season</th>\n",
       "      <th>Crop</th>\n",
       "      <th>Area</th>\n",
       "      <th>Production</th>\n",
       "    </tr>\n",
       "  </thead>\n",
       "  <tbody>\n",
       "    <tr>\n",
       "      <th>0</th>\n",
       "      <td>Kerala</td>\n",
       "      <td>ALAPPUZHA</td>\n",
       "      <td>1997</td>\n",
       "      <td>Whole Year</td>\n",
       "      <td>Arecanut</td>\n",
       "      <td>2253.0</td>\n",
       "      <td>1518.00</td>\n",
       "    </tr>\n",
       "    <tr>\n",
       "      <th>1</th>\n",
       "      <td>Kerala</td>\n",
       "      <td>ALAPPUZHA</td>\n",
       "      <td>1997</td>\n",
       "      <td>Whole Year</td>\n",
       "      <td>Black pepper</td>\n",
       "      <td>2235.0</td>\n",
       "      <td>248.00</td>\n",
       "    </tr>\n",
       "    <tr>\n",
       "      <th>2</th>\n",
       "      <td>Kerala</td>\n",
       "      <td>ALAPPUZHA</td>\n",
       "      <td>1997</td>\n",
       "      <td>Whole Year</td>\n",
       "      <td>Cashewnut</td>\n",
       "      <td>7205.0</td>\n",
       "      <td>2358.00</td>\n",
       "    </tr>\n",
       "    <tr>\n",
       "      <th>3</th>\n",
       "      <td>Kerala</td>\n",
       "      <td>ALAPPUZHA</td>\n",
       "      <td>1997</td>\n",
       "      <td>Whole Year</td>\n",
       "      <td>Coconut</td>\n",
       "      <td>77893.0</td>\n",
       "      <td>399000.00</td>\n",
       "    </tr>\n",
       "    <tr>\n",
       "      <th>4</th>\n",
       "      <td>Kerala</td>\n",
       "      <td>ALAPPUZHA</td>\n",
       "      <td>1997</td>\n",
       "      <td>Whole Year</td>\n",
       "      <td>Tapioca</td>\n",
       "      <td>3911.0</td>\n",
       "      <td>74110.00</td>\n",
       "    </tr>\n",
       "    <tr>\n",
       "      <th>...</th>\n",
       "      <td>...</td>\n",
       "      <td>...</td>\n",
       "      <td>...</td>\n",
       "      <td>...</td>\n",
       "      <td>...</td>\n",
       "      <td>...</td>\n",
       "      <td>...</td>\n",
       "    </tr>\n",
       "    <tr>\n",
       "      <th>4255</th>\n",
       "      <td>Kerala</td>\n",
       "      <td>WAYANAD</td>\n",
       "      <td>2014</td>\n",
       "      <td>Whole Year</td>\n",
       "      <td>Sesamum</td>\n",
       "      <td>1.0</td>\n",
       "      <td>0.45</td>\n",
       "    </tr>\n",
       "    <tr>\n",
       "      <th>4257</th>\n",
       "      <td>Kerala</td>\n",
       "      <td>WAYANAD</td>\n",
       "      <td>2014</td>\n",
       "      <td>Whole Year</td>\n",
       "      <td>Sweet potato</td>\n",
       "      <td>8.0</td>\n",
       "      <td>127.00</td>\n",
       "    </tr>\n",
       "    <tr>\n",
       "      <th>4258</th>\n",
       "      <td>Kerala</td>\n",
       "      <td>WAYANAD</td>\n",
       "      <td>2014</td>\n",
       "      <td>Whole Year</td>\n",
       "      <td>Tapioca</td>\n",
       "      <td>2327.0</td>\n",
       "      <td>99788.00</td>\n",
       "    </tr>\n",
       "    <tr>\n",
       "      <th>4259</th>\n",
       "      <td>Kerala</td>\n",
       "      <td>WAYANAD</td>\n",
       "      <td>2014</td>\n",
       "      <td>Whole Year</td>\n",
       "      <td>Turmeric</td>\n",
       "      <td>161.0</td>\n",
       "      <td>481.00</td>\n",
       "    </tr>\n",
       "    <tr>\n",
       "      <th>4260</th>\n",
       "      <td>Kerala</td>\n",
       "      <td>WAYANAD</td>\n",
       "      <td>2014</td>\n",
       "      <td>Winter</td>\n",
       "      <td>Rice</td>\n",
       "      <td>8651.0</td>\n",
       "      <td>23324.00</td>\n",
       "    </tr>\n",
       "  </tbody>\n",
       "</table>\n",
       "<p>4003 rows × 7 columns</p>\n",
       "</div>"
      ],
      "text/plain": [
       "     State_Name District_Name  Crop_Year       Season          Crop     Area  \\\n",
       "0        Kerala     ALAPPUZHA       1997  Whole Year       Arecanut   2253.0   \n",
       "1        Kerala     ALAPPUZHA       1997  Whole Year   Black pepper   2235.0   \n",
       "2        Kerala     ALAPPUZHA       1997  Whole Year      Cashewnut   7205.0   \n",
       "3        Kerala     ALAPPUZHA       1997  Whole Year       Coconut   77893.0   \n",
       "4        Kerala     ALAPPUZHA       1997  Whole Year        Tapioca   3911.0   \n",
       "...         ...           ...        ...          ...           ...      ...   \n",
       "4255     Kerala       WAYANAD       2014  Whole Year        Sesamum      1.0   \n",
       "4257     Kerala       WAYANAD       2014  Whole Year   Sweet potato      8.0   \n",
       "4258     Kerala       WAYANAD       2014  Whole Year        Tapioca   2327.0   \n",
       "4259     Kerala       WAYANAD       2014  Whole Year       Turmeric    161.0   \n",
       "4260     Kerala       WAYANAD       2014  Winter               Rice   8651.0   \n",
       "\n",
       "      Production  \n",
       "0        1518.00  \n",
       "1         248.00  \n",
       "2        2358.00  \n",
       "3      399000.00  \n",
       "4       74110.00  \n",
       "...          ...  \n",
       "4255        0.45  \n",
       "4257      127.00  \n",
       "4258    99788.00  \n",
       "4259      481.00  \n",
       "4260    23324.00  \n",
       "\n",
       "[4003 rows x 7 columns]"
      ]
     },
     "execution_count": 7,
     "metadata": {},
     "output_type": "execute_result"
    }
   ],
   "source": [
    "crop_data = crop_data.dropna()\n",
    "crop_data"
   ]
  },
  {
   "cell_type": "code",
   "execution_count": 8,
   "metadata": {},
   "outputs": [
    {
     "name": "stderr",
     "output_type": "stream",
     "text": [
      "<ipython-input-8-56d3bef77ace>:1: SettingWithCopyWarning: \n",
      "A value is trying to be set on a copy of a slice from a DataFrame.\n",
      "Try using .loc[row_indexer,col_indexer] = value instead\n",
      "\n",
      "See the caveats in the documentation: https://pandas.pydata.org/pandas-docs/stable/user_guide/indexing.html#returning-a-view-versus-a-copy\n",
      "  crop_data['Yield'] = (crop_data['Production'] / crop_data['Area'])\n"
     ]
    },
    {
     "data": {
      "text/html": [
       "<div>\n",
       "<style scoped>\n",
       "    .dataframe tbody tr th:only-of-type {\n",
       "        vertical-align: middle;\n",
       "    }\n",
       "\n",
       "    .dataframe tbody tr th {\n",
       "        vertical-align: top;\n",
       "    }\n",
       "\n",
       "    .dataframe thead th {\n",
       "        text-align: right;\n",
       "    }\n",
       "</style>\n",
       "<table border=\"1\" class=\"dataframe\">\n",
       "  <thead>\n",
       "    <tr style=\"text-align: right;\">\n",
       "      <th></th>\n",
       "      <th>State_Name</th>\n",
       "      <th>District_Name</th>\n",
       "      <th>Crop_Year</th>\n",
       "      <th>Season</th>\n",
       "      <th>Crop</th>\n",
       "      <th>Area</th>\n",
       "      <th>Production</th>\n",
       "      <th>Yield</th>\n",
       "    </tr>\n",
       "  </thead>\n",
       "  <tbody>\n",
       "    <tr>\n",
       "      <th>0</th>\n",
       "      <td>Kerala</td>\n",
       "      <td>ALAPPUZHA</td>\n",
       "      <td>1997</td>\n",
       "      <td>Whole Year</td>\n",
       "      <td>Arecanut</td>\n",
       "      <td>2253.0</td>\n",
       "      <td>1518.0</td>\n",
       "      <td>0.673768</td>\n",
       "    </tr>\n",
       "    <tr>\n",
       "      <th>1</th>\n",
       "      <td>Kerala</td>\n",
       "      <td>ALAPPUZHA</td>\n",
       "      <td>1997</td>\n",
       "      <td>Whole Year</td>\n",
       "      <td>Black pepper</td>\n",
       "      <td>2235.0</td>\n",
       "      <td>248.0</td>\n",
       "      <td>0.110962</td>\n",
       "    </tr>\n",
       "    <tr>\n",
       "      <th>2</th>\n",
       "      <td>Kerala</td>\n",
       "      <td>ALAPPUZHA</td>\n",
       "      <td>1997</td>\n",
       "      <td>Whole Year</td>\n",
       "      <td>Cashewnut</td>\n",
       "      <td>7205.0</td>\n",
       "      <td>2358.0</td>\n",
       "      <td>0.327273</td>\n",
       "    </tr>\n",
       "    <tr>\n",
       "      <th>3</th>\n",
       "      <td>Kerala</td>\n",
       "      <td>ALAPPUZHA</td>\n",
       "      <td>1997</td>\n",
       "      <td>Whole Year</td>\n",
       "      <td>Coconut</td>\n",
       "      <td>77893.0</td>\n",
       "      <td>399000.0</td>\n",
       "      <td>5.122412</td>\n",
       "    </tr>\n",
       "    <tr>\n",
       "      <th>4</th>\n",
       "      <td>Kerala</td>\n",
       "      <td>ALAPPUZHA</td>\n",
       "      <td>1997</td>\n",
       "      <td>Whole Year</td>\n",
       "      <td>Tapioca</td>\n",
       "      <td>3911.0</td>\n",
       "      <td>74110.0</td>\n",
       "      <td>18.949118</td>\n",
       "    </tr>\n",
       "    <tr>\n",
       "      <th>5</th>\n",
       "      <td>Kerala</td>\n",
       "      <td>ALAPPUZHA</td>\n",
       "      <td>1998</td>\n",
       "      <td>Autumn</td>\n",
       "      <td>Rice</td>\n",
       "      <td>8719.0</td>\n",
       "      <td>17570.0</td>\n",
       "      <td>2.015139</td>\n",
       "    </tr>\n",
       "    <tr>\n",
       "      <th>6</th>\n",
       "      <td>Kerala</td>\n",
       "      <td>ALAPPUZHA</td>\n",
       "      <td>1998</td>\n",
       "      <td>Kharif</td>\n",
       "      <td>Sesamum</td>\n",
       "      <td>1150.0</td>\n",
       "      <td>140.0</td>\n",
       "      <td>0.121739</td>\n",
       "    </tr>\n",
       "    <tr>\n",
       "      <th>7</th>\n",
       "      <td>Kerala</td>\n",
       "      <td>ALAPPUZHA</td>\n",
       "      <td>1998</td>\n",
       "      <td>Summer</td>\n",
       "      <td>Rice</td>\n",
       "      <td>19058.0</td>\n",
       "      <td>58013.0</td>\n",
       "      <td>3.044024</td>\n",
       "    </tr>\n",
       "    <tr>\n",
       "      <th>8</th>\n",
       "      <td>Kerala</td>\n",
       "      <td>ALAPPUZHA</td>\n",
       "      <td>1998</td>\n",
       "      <td>Whole Year</td>\n",
       "      <td>Arecanut</td>\n",
       "      <td>2067.0</td>\n",
       "      <td>766.0</td>\n",
       "      <td>0.370585</td>\n",
       "    </tr>\n",
       "    <tr>\n",
       "      <th>9</th>\n",
       "      <td>Kerala</td>\n",
       "      <td>ALAPPUZHA</td>\n",
       "      <td>1998</td>\n",
       "      <td>Whole Year</td>\n",
       "      <td>Banana</td>\n",
       "      <td>324.0</td>\n",
       "      <td>4493.0</td>\n",
       "      <td>13.867284</td>\n",
       "    </tr>\n",
       "  </tbody>\n",
       "</table>\n",
       "</div>"
      ],
      "text/plain": [
       "  State_Name District_Name  Crop_Year       Season          Crop     Area  \\\n",
       "0     Kerala     ALAPPUZHA       1997  Whole Year       Arecanut   2253.0   \n",
       "1     Kerala     ALAPPUZHA       1997  Whole Year   Black pepper   2235.0   \n",
       "2     Kerala     ALAPPUZHA       1997  Whole Year      Cashewnut   7205.0   \n",
       "3     Kerala     ALAPPUZHA       1997  Whole Year       Coconut   77893.0   \n",
       "4     Kerala     ALAPPUZHA       1997  Whole Year        Tapioca   3911.0   \n",
       "5     Kerala     ALAPPUZHA       1998  Autumn               Rice   8719.0   \n",
       "6     Kerala     ALAPPUZHA       1998  Kharif            Sesamum   1150.0   \n",
       "7     Kerala     ALAPPUZHA       1998  Summer               Rice  19058.0   \n",
       "8     Kerala     ALAPPUZHA       1998  Whole Year       Arecanut   2067.0   \n",
       "9     Kerala     ALAPPUZHA       1998  Whole Year         Banana    324.0   \n",
       "\n",
       "   Production      Yield  \n",
       "0      1518.0   0.673768  \n",
       "1       248.0   0.110962  \n",
       "2      2358.0   0.327273  \n",
       "3    399000.0   5.122412  \n",
       "4     74110.0  18.949118  \n",
       "5     17570.0   2.015139  \n",
       "6       140.0   0.121739  \n",
       "7     58013.0   3.044024  \n",
       "8       766.0   0.370585  \n",
       "9      4493.0  13.867284  "
      ]
     },
     "execution_count": 8,
     "metadata": {},
     "output_type": "execute_result"
    }
   ],
   "source": [
    "crop_data['Yield'] = (crop_data['Production'] / crop_data['Area'])\n",
    "crop_data.head(10) "
   ]
  },
  {
   "cell_type": "code",
   "execution_count": 9,
   "metadata": {},
   "outputs": [
    {
     "name": "stderr",
     "output_type": "stream",
     "text": [
      "C:\\Users\\jissi\\anaconda3\\lib\\site-packages\\seaborn\\_decorators.py:36: FutureWarning: Pass the following variables as keyword args: x, y. From version 0.12, the only valid positional argument will be `data`, and passing other arguments without an explicit keyword will result in an error or misinterpretation.\n",
      "  warnings.warn(\n"
     ]
    },
    {
     "data": {
      "text/plain": [
       "(array([ 0,  1,  2,  3,  4,  5,  6,  7,  8,  9, 10, 11, 12, 13]),\n",
       " [Text(0, 0, 'ALAPPUZHA'),\n",
       "  Text(1, 0, 'ERNAKULAM'),\n",
       "  Text(2, 0, 'IDUKKI'),\n",
       "  Text(3, 0, 'KANNUR'),\n",
       "  Text(4, 0, 'KASARAGOD'),\n",
       "  Text(5, 0, 'KOLLAM'),\n",
       "  Text(6, 0, 'KOTTAYAM'),\n",
       "  Text(7, 0, 'KOZHIKODE'),\n",
       "  Text(8, 0, 'MALAPPURAM'),\n",
       "  Text(9, 0, 'PALAKKAD'),\n",
       "  Text(10, 0, 'PATHANAMTHITTA'),\n",
       "  Text(11, 0, 'THIRUVANANTHAPURAM'),\n",
       "  Text(12, 0, 'THRISSUR'),\n",
       "  Text(13, 0, 'WAYANAD')])"
      ]
     },
     "execution_count": 9,
     "metadata": {},
     "output_type": "execute_result"
    },
    {
     "data": {
      "image/png": "[encoded data removed]",
      "text/plain": [
       "<Figure size 432x288 with 1 Axes>"
      ]
     },
     "metadata": {
      "needs_background": "light"
     },
     "output_type": "display_data"
    }
   ],
   "source": [
    "sns.barplot(crop_data[\"District_Name\"], crop_data[\"Production\"])\n",
    "plt.xticks(rotation = 90)"
   ]
  },
  {
   "cell_type": "raw",
   "metadata": {},
   "source": [
    "Conclusion\n",
    "\n",
    "Maximum Production DistrictWise - Kozhikode ,  Malappuram\n",
    "Minimum -Idukki , Wayanad"
   ]
  },
  {
   "cell_type": "code",
   "execution_count": 10,
   "metadata": {},
   "outputs": [
    {
     "name": "stderr",
     "output_type": "stream",
     "text": [
      "C:\\Users\\jissi\\anaconda3\\lib\\site-packages\\seaborn\\_decorators.py:36: FutureWarning: Pass the following variables as keyword args: x, y. From version 0.12, the only valid positional argument will be `data`, and passing other arguments without an explicit keyword will result in an error or misinterpretation.\n",
      "  warnings.warn(\n"
     ]
    },
    {
     "data": {
      "text/plain": [
       "(array([ 0,  1,  2,  3,  4,  5,  6,  7,  8,  9, 10, 11, 12, 13]),\n",
       " [Text(0, 0, 'ALAPPUZHA'),\n",
       "  Text(1, 0, 'ERNAKULAM'),\n",
       "  Text(2, 0, 'IDUKKI'),\n",
       "  Text(3, 0, 'KANNUR'),\n",
       "  Text(4, 0, 'KASARAGOD'),\n",
       "  Text(5, 0, 'KOLLAM'),\n",
       "  Text(6, 0, 'KOTTAYAM'),\n",
       "  Text(7, 0, 'KOZHIKODE'),\n",
       "  Text(8, 0, 'MALAPPURAM'),\n",
       "  Text(9, 0, 'PALAKKAD'),\n",
       "  Text(10, 0, 'PATHANAMTHITTA'),\n",
       "  Text(11, 0, 'THIRUVANANTHAPURAM'),\n",
       "  Text(12, 0, 'THRISSUR'),\n",
       "  Text(13, 0, 'WAYANAD')])"
      ]
     },
     "execution_count": 10,
     "metadata": {},
     "output_type": "execute_result"
    },
    {
     "data": {
      "image/png": "[encoded data removed]",
      "text/plain": [
       "<Figure size 432x288 with 1 Axes>"
      ]
     },
     "metadata": {
      "needs_background": "light"
     },
     "output_type": "display_data"
    }
   ],
   "source": [
    "sns.barplot(crop_data[\"District_Name\"], crop_data[\"Yield\"])\n",
    "plt.xticks(rotation = 90)"
   ]
  },
  {
   "cell_type": "code",
   "execution_count": 11,
   "metadata": {},
   "outputs": [
    {
     "name": "stderr",
     "output_type": "stream",
     "text": [
      "C:\\Users\\jissi\\anaconda3\\lib\\site-packages\\seaborn\\_decorators.py:36: FutureWarning: Pass the following variables as keyword args: x, y. From version 0.12, the only valid positional argument will be `data`, and passing other arguments without an explicit keyword will result in an error or misinterpretation.\n",
      "  warnings.warn(\n"
     ]
    },
    {
     "data": {
      "text/plain": [
       "(array([ 0,  1,  2,  3,  4,  5,  6,  7,  8,  9, 10, 11, 12, 13, 14, 15, 16,\n",
       "        17]),\n",
       " [Text(0, 0, '1997'),\n",
       "  Text(1, 0, '1998'),\n",
       "  Text(2, 0, '1999'),\n",
       "  Text(3, 0, '2000'),\n",
       "  Text(4, 0, '2001'),\n",
       "  Text(5, 0, '2002'),\n",
       "  Text(6, 0, '2003'),\n",
       "  Text(7, 0, '2004'),\n",
       "  Text(8, 0, '2005'),\n",
       "  Text(9, 0, '2006'),\n",
       "  Text(10, 0, '2007'),\n",
       "  Text(11, 0, '2008'),\n",
       "  Text(12, 0, '2009'),\n",
       "  Text(13, 0, '2010'),\n",
       "  Text(14, 0, '2011'),\n",
       "  Text(15, 0, '2012'),\n",
       "  Text(16, 0, '2013'),\n",
       "  Text(17, 0, '2014')])"
      ]
     },
     "execution_count": 11,
     "metadata": {},
     "output_type": "execute_result"
    },
    {
     "data": {
      "image/png": "[encoded data removed]",
      "text/plain": [
       "<Figure size 432x288 with 1 Axes>"
      ]
     },
     "metadata": {
      "needs_background": "light"
     },
     "output_type": "display_data"
    }
   ],
   "source": [
    "sns.barplot(crop_data[\"Crop_Year\"], crop_data[\"Production\"])\n",
    "plt.xticks(rotation = 90)"
   ]
  },
  {
   "cell_type": "code",
   "execution_count": 12,
   "metadata": {},
   "outputs": [
    {
     "name": "stderr",
     "output_type": "stream",
     "text": [
      "C:\\Users\\jissi\\anaconda3\\lib\\site-packages\\seaborn\\_decorators.py:36: FutureWarning: Pass the following variables as keyword args: x, y. From version 0.12, the only valid positional argument will be `data`, and passing other arguments without an explicit keyword will result in an error or misinterpretation.\n",
      "  warnings.warn(\n"
     ]
    },
    {
     "data": {
      "text/plain": [
       "(array([ 0,  1,  2,  3,  4,  5,  6,  7,  8,  9, 10, 11, 12, 13, 14, 15, 16,\n",
       "        17]),\n",
       " [Text(0, 0, '1997'),\n",
       "  Text(1, 0, '1998'),\n",
       "  Text(2, 0, '1999'),\n",
       "  Text(3, 0, '2000'),\n",
       "  Text(4, 0, '2001'),\n",
       "  Text(5, 0, '2002'),\n",
       "  Text(6, 0, '2003'),\n",
       "  Text(7, 0, '2004'),\n",
       "  Text(8, 0, '2005'),\n",
       "  Text(9, 0, '2006'),\n",
       "  Text(10, 0, '2007'),\n",
       "  Text(11, 0, '2008'),\n",
       "  Text(12, 0, '2009'),\n",
       "  Text(13, 0, '2010'),\n",
       "  Text(14, 0, '2011'),\n",
       "  Text(15, 0, '2012'),\n",
       "  Text(16, 0, '2013'),\n",
       "  Text(17, 0, '2014')])"
      ]
     },
     "execution_count": 12,
     "metadata": {},
     "output_type": "execute_result"
    },
    {
     "data": {
      "image/png": "[encoded data removed]",
      "text/plain": [
       "<Figure size 432x288 with 1 Axes>"
      ]
     },
     "metadata": {
      "needs_background": "light"
     },
     "output_type": "display_data"
    }
   ],
   "source": [
    "sns.barplot(crop_data[\"Crop_Year\"], crop_data[\"Yield\"])\n",
    "plt.xticks(rotation = 90)"
   ]
  },
  {
   "cell_type": "code",
   "execution_count": 13,
   "metadata": {},
   "outputs": [
    {
     "name": "stderr",
     "output_type": "stream",
     "text": [
      "C:\\Users\\jissi\\anaconda3\\lib\\site-packages\\seaborn\\_decorators.py:36: FutureWarning: Pass the following variables as keyword args: x, y. From version 0.12, the only valid positional argument will be `data`, and passing other arguments without an explicit keyword will result in an error or misinterpretation.\n",
      "  warnings.warn(\n"
     ]
    },
    {
     "data": {
      "text/plain": [
       "([0, 1, 2, 3, 4],\n",
       " [Text(0, 0, ''),\n",
       "  Text(0, 0, ''),\n",
       "  Text(0, 0, ''),\n",
       "  Text(0, 0, ''),\n",
       "  Text(0, 0, '')])"
      ]
     },
     "execution_count": 13,
     "metadata": {},
     "output_type": "execute_result"
    },
    {
     "data": {
      "image/png": "[encoded data removed]",
      "text/plain": [
       "<Figure size 432x288 with 1 Axes>"
      ]
     },
     "metadata": {
      "needs_background": "light"
     },
     "output_type": "display_data"
    }
   ],
   "source": [
    "sns.lineplot(crop_data[\"Season\"], crop_data[\"Production\"])\n",
    "plt.xticks(rotation = 90)"
   ]
  },
  {
   "cell_type": "markdown",
   "metadata": {},
   "source": [
    "# Rice "
   ]
  },
  {
   "cell_type": "code",
   "execution_count": 16,
   "metadata": {},
   "outputs": [
    {
     "data": {
      "text/html": [
       "<div>\n",
       "<style scoped>\n",
       "    .dataframe tbody tr th:only-of-type {\n",
       "        vertical-align: middle;\n",
       "    }\n",
       "\n",
       "    .dataframe tbody tr th {\n",
       "        vertical-align: top;\n",
       "    }\n",
       "\n",
       "    .dataframe thead th {\n",
       "        text-align: right;\n",
       "    }\n",
       "</style>\n",
       "<table border=\"1\" class=\"dataframe\">\n",
       "  <thead>\n",
       "    <tr style=\"text-align: right;\">\n",
       "      <th></th>\n",
       "      <th>State_Name</th>\n",
       "      <th>District_Name</th>\n",
       "      <th>Crop_Year</th>\n",
       "      <th>Season</th>\n",
       "      <th>Crop</th>\n",
       "      <th>Area</th>\n",
       "      <th>Production</th>\n",
       "      <th>Yield</th>\n",
       "    </tr>\n",
       "  </thead>\n",
       "  <tbody>\n",
       "    <tr>\n",
       "      <th>5</th>\n",
       "      <td>Kerala</td>\n",
       "      <td>ALAPPUZHA</td>\n",
       "      <td>1998</td>\n",
       "      <td>Autumn</td>\n",
       "      <td>Rice</td>\n",
       "      <td>8719.0</td>\n",
       "      <td>17570.0</td>\n",
       "      <td>2.015139</td>\n",
       "    </tr>\n",
       "    <tr>\n",
       "      <th>7</th>\n",
       "      <td>Kerala</td>\n",
       "      <td>ALAPPUZHA</td>\n",
       "      <td>1998</td>\n",
       "      <td>Summer</td>\n",
       "      <td>Rice</td>\n",
       "      <td>19058.0</td>\n",
       "      <td>58013.0</td>\n",
       "      <td>3.044024</td>\n",
       "    </tr>\n",
       "    <tr>\n",
       "      <th>18</th>\n",
       "      <td>Kerala</td>\n",
       "      <td>ALAPPUZHA</td>\n",
       "      <td>1998</td>\n",
       "      <td>Winter</td>\n",
       "      <td>Rice</td>\n",
       "      <td>7348.0</td>\n",
       "      <td>16098.0</td>\n",
       "      <td>2.190800</td>\n",
       "    </tr>\n",
       "    <tr>\n",
       "      <th>19</th>\n",
       "      <td>Kerala</td>\n",
       "      <td>ALAPPUZHA</td>\n",
       "      <td>1999</td>\n",
       "      <td>Autumn</td>\n",
       "      <td>Rice</td>\n",
       "      <td>8233.0</td>\n",
       "      <td>24776.0</td>\n",
       "      <td>3.009353</td>\n",
       "    </tr>\n",
       "    <tr>\n",
       "      <th>21</th>\n",
       "      <td>Kerala</td>\n",
       "      <td>ALAPPUZHA</td>\n",
       "      <td>1999</td>\n",
       "      <td>Summer</td>\n",
       "      <td>Rice</td>\n",
       "      <td>16404.0</td>\n",
       "      <td>39718.0</td>\n",
       "      <td>2.421239</td>\n",
       "    </tr>\n",
       "    <tr>\n",
       "      <th>...</th>\n",
       "      <td>...</td>\n",
       "      <td>...</td>\n",
       "      <td>...</td>\n",
       "      <td>...</td>\n",
       "      <td>...</td>\n",
       "      <td>...</td>\n",
       "      <td>...</td>\n",
       "      <td>...</td>\n",
       "    </tr>\n",
       "    <tr>\n",
       "      <th>4223</th>\n",
       "      <td>Kerala</td>\n",
       "      <td>WAYANAD</td>\n",
       "      <td>2012</td>\n",
       "      <td>Winter</td>\n",
       "      <td>Rice</td>\n",
       "      <td>9196.0</td>\n",
       "      <td>25287.0</td>\n",
       "      <td>2.749783</td>\n",
       "    </tr>\n",
       "    <tr>\n",
       "      <th>4225</th>\n",
       "      <td>Kerala</td>\n",
       "      <td>WAYANAD</td>\n",
       "      <td>2013</td>\n",
       "      <td>Summer</td>\n",
       "      <td>Rice</td>\n",
       "      <td>1522.0</td>\n",
       "      <td>4062.0</td>\n",
       "      <td>2.668857</td>\n",
       "    </tr>\n",
       "    <tr>\n",
       "      <th>4243</th>\n",
       "      <td>Kerala</td>\n",
       "      <td>WAYANAD</td>\n",
       "      <td>2013</td>\n",
       "      <td>Winter</td>\n",
       "      <td>Rice</td>\n",
       "      <td>9959.0</td>\n",
       "      <td>26693.0</td>\n",
       "      <td>2.680289</td>\n",
       "    </tr>\n",
       "    <tr>\n",
       "      <th>4244</th>\n",
       "      <td>Kerala</td>\n",
       "      <td>WAYANAD</td>\n",
       "      <td>2014</td>\n",
       "      <td>Summer</td>\n",
       "      <td>Rice</td>\n",
       "      <td>1039.0</td>\n",
       "      <td>2844.0</td>\n",
       "      <td>2.737247</td>\n",
       "    </tr>\n",
       "    <tr>\n",
       "      <th>4260</th>\n",
       "      <td>Kerala</td>\n",
       "      <td>WAYANAD</td>\n",
       "      <td>2014</td>\n",
       "      <td>Winter</td>\n",
       "      <td>Rice</td>\n",
       "      <td>8651.0</td>\n",
       "      <td>23324.0</td>\n",
       "      <td>2.696104</td>\n",
       "    </tr>\n",
       "  </tbody>\n",
       "</table>\n",
       "<p>694 rows × 8 columns</p>\n",
       "</div>"
      ],
      "text/plain": [
       "     State_Name District_Name  Crop_Year       Season  Crop     Area  \\\n",
       "5        Kerala     ALAPPUZHA       1998  Autumn       Rice   8719.0   \n",
       "7        Kerala     ALAPPUZHA       1998  Summer       Rice  19058.0   \n",
       "18       Kerala     ALAPPUZHA       1998  Winter       Rice   7348.0   \n",
       "19       Kerala     ALAPPUZHA       1999  Autumn       Rice   8233.0   \n",
       "21       Kerala     ALAPPUZHA       1999  Summer       Rice  16404.0   \n",
       "...         ...           ...        ...          ...   ...      ...   \n",
       "4223     Kerala       WAYANAD       2012  Winter       Rice   9196.0   \n",
       "4225     Kerala       WAYANAD       2013  Summer       Rice   1522.0   \n",
       "4243     Kerala       WAYANAD       2013  Winter       Rice   9959.0   \n",
       "4244     Kerala       WAYANAD       2014  Summer       Rice   1039.0   \n",
       "4260     Kerala       WAYANAD       2014  Winter       Rice   8651.0   \n",
       "\n",
       "      Production     Yield  \n",
       "5        17570.0  2.015139  \n",
       "7        58013.0  3.044024  \n",
       "18       16098.0  2.190800  \n",
       "19       24776.0  3.009353  \n",
       "21       39718.0  2.421239  \n",
       "...          ...       ...  \n",
       "4223     25287.0  2.749783  \n",
       "4225      4062.0  2.668857  \n",
       "4243     26693.0  2.680289  \n",
       "4244      2844.0  2.737247  \n",
       "4260     23324.0  2.696104  \n",
       "\n",
       "[694 rows x 8 columns]"
      ]
     },
     "execution_count": 16,
     "metadata": {},
     "output_type": "execute_result"
    }
   ],
   "source": [
    "rice_data = crop_data[crop_data[\"Crop\"]==\"Rice\"]\n",
    "rice_data"
   ]
  },
  {
   "cell_type": "code",
   "execution_count": 17,
   "metadata": {},
   "outputs": [
    {
     "data": {
      "text/plain": [
       "(694, 8)"
      ]
     },
     "execution_count": 17,
     "metadata": {},
     "output_type": "execute_result"
    }
   ],
   "source": [
    "rice_data.shape"
   ]
  },
  {
   "cell_type": "code",
   "execution_count": 18,
   "metadata": {},
   "outputs": [
    {
     "name": "stderr",
     "output_type": "stream",
     "text": [
      "C:\\Users\\jissi\\anaconda3\\lib\\site-packages\\seaborn\\_decorators.py:36: FutureWarning: Pass the following variables as keyword args: x, y. From version 0.12, the only valid positional argument will be `data`, and passing other arguments without an explicit keyword will result in an error or misinterpretation.\n",
      "  warnings.warn(\n"
     ]
    },
    {
     "data": {
      "text/plain": [
       "(array([0, 1, 2]),\n",
       " [Text(0, 0, 'Autumn     '),\n",
       "  Text(1, 0, 'Summer     '),\n",
       "  Text(2, 0, 'Winter     ')])"
      ]
     },
     "execution_count": 18,
     "metadata": {},
     "output_type": "execute_result"
    },
    {
     "data": {
      "image/png": "[encoded data removed]",
      "text/plain": [
       "<Figure size 432x288 with 1 Axes>"
      ]
     },
     "metadata": {
      "needs_background": "light"
     },
     "output_type": "display_data"
    }
   ],
   "source": [
    "sns.barplot(\"Season\",\"Yield\",data = rice_data)\n",
    "plt.xticks(rotation = 90)"
   ]
  },
  {
   "cell_type": "code",
   "execution_count": 19,
   "metadata": {},
   "outputs": [
    {
     "name": "stderr",
     "output_type": "stream",
     "text": [
      "C:\\Users\\jissi\\anaconda3\\lib\\site-packages\\seaborn\\_decorators.py:36: FutureWarning: Pass the following variables as keyword args: x, y. From version 0.12, the only valid positional argument will be `data`, and passing other arguments without an explicit keyword will result in an error or misinterpretation.\n",
      "  warnings.warn(\n"
     ]
    },
    {
     "data": {
      "text/plain": [
       "(array([ 0,  1,  2,  3,  4,  5,  6,  7,  8,  9, 10, 11, 12, 13]),\n",
       " [Text(0, 0, 'ALAPPUZHA'),\n",
       "  Text(1, 0, 'ERNAKULAM'),\n",
       "  Text(2, 0, 'IDUKKI'),\n",
       "  Text(3, 0, 'KANNUR'),\n",
       "  Text(4, 0, 'KASARAGOD'),\n",
       "  Text(5, 0, 'KOLLAM'),\n",
       "  Text(6, 0, 'KOTTAYAM'),\n",
       "  Text(7, 0, 'KOZHIKODE'),\n",
       "  Text(8, 0, 'MALAPPURAM'),\n",
       "  Text(9, 0, 'PALAKKAD'),\n",
       "  Text(10, 0, 'PATHANAMTHITTA'),\n",
       "  Text(11, 0, 'THIRUVANANTHAPURAM'),\n",
       "  Text(12, 0, 'THRISSUR'),\n",
       "  Text(13, 0, 'WAYANAD')])"
      ]
     },
     "execution_count": 19,
     "metadata": {},
     "output_type": "execute_result"
    },
    {
     "data": {
      "image/png": "[encoded data removed]",
      "text/plain": [
       "<Figure size 432x288 with 1 Axes>"
      ]
     },
     "metadata": {
      "needs_background": "light"
     },
     "output_type": "display_data"
    }
   ],
   "source": [
    "sns.barplot(\"District_Name\",\"Production\",data=rice_data)\n",
    "plt.xticks(rotation=90)"
   ]
  },
  {
   "cell_type": "code",
   "execution_count": 20,
   "metadata": {},
   "outputs": [
    {
     "name": "stderr",
     "output_type": "stream",
     "text": [
      "C:\\Users\\jissi\\anaconda3\\lib\\site-packages\\seaborn\\_decorators.py:36: FutureWarning: Pass the following variables as keyword args: x, y. From version 0.12, the only valid positional argument will be `data`, and passing other arguments without an explicit keyword will result in an error or misinterpretation.\n",
      "  warnings.warn(\n"
     ]
    },
    {
     "data": {
      "text/plain": [
       "(array([ 0,  1,  2,  3,  4,  5,  6,  7,  8,  9, 10, 11, 12, 13, 14, 15, 16]),\n",
       " [Text(0, 0, '1998'),\n",
       "  Text(1, 0, '1999'),\n",
       "  Text(2, 0, '2000'),\n",
       "  Text(3, 0, '2001'),\n",
       "  Text(4, 0, '2002'),\n",
       "  Text(5, 0, '2003'),\n",
       "  Text(6, 0, '2004'),\n",
       "  Text(7, 0, '2005'),\n",
       "  Text(8, 0, '2006'),\n",
       "  Text(9, 0, '2007'),\n",
       "  Text(10, 0, '2008'),\n",
       "  Text(11, 0, '2009'),\n",
       "  Text(12, 0, '2010'),\n",
       "  Text(13, 0, '2011'),\n",
       "  Text(14, 0, '2012'),\n",
       "  Text(15, 0, '2013'),\n",
       "  Text(16, 0, '2014')])"
      ]
     },
     "execution_count": 20,
     "metadata": {},
     "output_type": "execute_result"
    },
    {
     "data": {
      "image/png": "[encoded data removed]",
      "text/plain": [
       "<Figure size 432x288 with 1 Axes>"
      ]
     },
     "metadata": {
      "needs_background": "light"
     },
     "output_type": "display_data"
    }
   ],
   "source": [
    "sns.barplot(\"Crop_Year\",\"Production\",data=rice_data)\n",
    "plt.xticks(rotation=90)"
   ]
  },
  {
   "cell_type": "markdown",
   "metadata": {},
   "source": [
    "# Rubber "
   ]
  },
  {
   "cell_type": "code",
   "execution_count": 21,
   "metadata": {},
   "outputs": [
    {
     "data": {
      "text/html": [
       "<div>\n",
       "<style scoped>\n",
       "    .dataframe tbody tr th:only-of-type {\n",
       "        vertical-align: middle;\n",
       "    }\n",
       "\n",
       "    .dataframe tbody tr th {\n",
       "        vertical-align: top;\n",
       "    }\n",
       "\n",
       "    .dataframe thead th {\n",
       "        text-align: right;\n",
       "    }\n",
       "</style>\n",
       "<table border=\"1\" class=\"dataframe\">\n",
       "  <thead>\n",
       "    <tr style=\"text-align: right;\">\n",
       "      <th></th>\n",
       "      <th>State_Name</th>\n",
       "      <th>District_Name</th>\n",
       "      <th>Crop_Year</th>\n",
       "      <th>Season</th>\n",
       "      <th>Crop</th>\n",
       "      <th>Area</th>\n",
       "      <th>Production</th>\n",
       "      <th>Yield</th>\n",
       "    </tr>\n",
       "  </thead>\n",
       "  <tbody>\n",
       "    <tr>\n",
       "      <th>56</th>\n",
       "      <td>Kerala</td>\n",
       "      <td>ALAPPUZHA</td>\n",
       "      <td>2001</td>\n",
       "      <td>Whole Year</td>\n",
       "      <td>Rubber</td>\n",
       "      <td>3849.0</td>\n",
       "      <td>4114.0</td>\n",
       "      <td>1.068849</td>\n",
       "    </tr>\n",
       "    <tr>\n",
       "      <th>83</th>\n",
       "      <td>Kerala</td>\n",
       "      <td>ALAPPUZHA</td>\n",
       "      <td>2002</td>\n",
       "      <td>Whole Year</td>\n",
       "      <td>Rubber</td>\n",
       "      <td>3825.0</td>\n",
       "      <td>4356.0</td>\n",
       "      <td>1.138824</td>\n",
       "    </tr>\n",
       "    <tr>\n",
       "      <th>347</th>\n",
       "      <td>Kerala</td>\n",
       "      <td>ERNAKULAM</td>\n",
       "      <td>2001</td>\n",
       "      <td>Whole Year</td>\n",
       "      <td>Rubber</td>\n",
       "      <td>56710.0</td>\n",
       "      <td>73219.0</td>\n",
       "      <td>1.291113</td>\n",
       "    </tr>\n",
       "    <tr>\n",
       "      <th>374</th>\n",
       "      <td>Kerala</td>\n",
       "      <td>ERNAKULAM</td>\n",
       "      <td>2002</td>\n",
       "      <td>Whole Year</td>\n",
       "      <td>Rubber</td>\n",
       "      <td>56737.0</td>\n",
       "      <td>73752.0</td>\n",
       "      <td>1.299892</td>\n",
       "    </tr>\n",
       "    <tr>\n",
       "      <th>646</th>\n",
       "      <td>Kerala</td>\n",
       "      <td>IDUKKI</td>\n",
       "      <td>2001</td>\n",
       "      <td>Whole Year</td>\n",
       "      <td>Rubber</td>\n",
       "      <td>38123.0</td>\n",
       "      <td>45260.0</td>\n",
       "      <td>1.187210</td>\n",
       "    </tr>\n",
       "    <tr>\n",
       "      <th>679</th>\n",
       "      <td>Kerala</td>\n",
       "      <td>IDUKKI</td>\n",
       "      <td>2002</td>\n",
       "      <td>Whole Year</td>\n",
       "      <td>Rubber</td>\n",
       "      <td>38250.0</td>\n",
       "      <td>45295.0</td>\n",
       "      <td>1.184183</td>\n",
       "    </tr>\n",
       "    <tr>\n",
       "      <th>983</th>\n",
       "      <td>Kerala</td>\n",
       "      <td>KANNUR</td>\n",
       "      <td>2001</td>\n",
       "      <td>Whole Year</td>\n",
       "      <td>Rubber</td>\n",
       "      <td>34012.0</td>\n",
       "      <td>38800.0</td>\n",
       "      <td>1.140774</td>\n",
       "    </tr>\n",
       "    <tr>\n",
       "      <th>1010</th>\n",
       "      <td>Kerala</td>\n",
       "      <td>KANNUR</td>\n",
       "      <td>2002</td>\n",
       "      <td>Whole Year</td>\n",
       "      <td>Rubber</td>\n",
       "      <td>34085.0</td>\n",
       "      <td>40658.0</td>\n",
       "      <td>1.192841</td>\n",
       "    </tr>\n",
       "    <tr>\n",
       "      <th>1286</th>\n",
       "      <td>Kerala</td>\n",
       "      <td>KASARAGOD</td>\n",
       "      <td>2001</td>\n",
       "      <td>Whole Year</td>\n",
       "      <td>Rubber</td>\n",
       "      <td>22348.0</td>\n",
       "      <td>24125.0</td>\n",
       "      <td>1.079515</td>\n",
       "    </tr>\n",
       "    <tr>\n",
       "      <th>1313</th>\n",
       "      <td>Kerala</td>\n",
       "      <td>KASARAGOD</td>\n",
       "      <td>2002</td>\n",
       "      <td>Whole Year</td>\n",
       "      <td>Rubber</td>\n",
       "      <td>22420.0</td>\n",
       "      <td>25795.0</td>\n",
       "      <td>1.150535</td>\n",
       "    </tr>\n",
       "    <tr>\n",
       "      <th>1603</th>\n",
       "      <td>Kerala</td>\n",
       "      <td>KOLLAM</td>\n",
       "      <td>2001</td>\n",
       "      <td>Whole Year</td>\n",
       "      <td>Rubber</td>\n",
       "      <td>36863.0</td>\n",
       "      <td>46854.0</td>\n",
       "      <td>1.271031</td>\n",
       "    </tr>\n",
       "    <tr>\n",
       "      <th>1633</th>\n",
       "      <td>Kerala</td>\n",
       "      <td>KOLLAM</td>\n",
       "      <td>2002</td>\n",
       "      <td>Whole Year</td>\n",
       "      <td>Rubber</td>\n",
       "      <td>36797.0</td>\n",
       "      <td>48386.0</td>\n",
       "      <td>1.314944</td>\n",
       "    </tr>\n",
       "    <tr>\n",
       "      <th>1904</th>\n",
       "      <td>Kerala</td>\n",
       "      <td>KOTTAYAM</td>\n",
       "      <td>2001</td>\n",
       "      <td>Whole Year</td>\n",
       "      <td>Rubber</td>\n",
       "      <td>111301.0</td>\n",
       "      <td>140543.0</td>\n",
       "      <td>1.262729</td>\n",
       "    </tr>\n",
       "    <tr>\n",
       "      <th>1933</th>\n",
       "      <td>Kerala</td>\n",
       "      <td>KOTTAYAM</td>\n",
       "      <td>2002</td>\n",
       "      <td>Whole Year</td>\n",
       "      <td>Rubber</td>\n",
       "      <td>111776.0</td>\n",
       "      <td>143244.0</td>\n",
       "      <td>1.281527</td>\n",
       "    </tr>\n",
       "    <tr>\n",
       "      <th>2193</th>\n",
       "      <td>Kerala</td>\n",
       "      <td>KOZHIKODE</td>\n",
       "      <td>2001</td>\n",
       "      <td>Whole Year</td>\n",
       "      <td>Rubber</td>\n",
       "      <td>17575.0</td>\n",
       "      <td>22884.0</td>\n",
       "      <td>1.302077</td>\n",
       "    </tr>\n",
       "    <tr>\n",
       "      <th>2220</th>\n",
       "      <td>Kerala</td>\n",
       "      <td>KOZHIKODE</td>\n",
       "      <td>2002</td>\n",
       "      <td>Whole Year</td>\n",
       "      <td>Rubber</td>\n",
       "      <td>17591.0</td>\n",
       "      <td>23490.0</td>\n",
       "      <td>1.335342</td>\n",
       "    </tr>\n",
       "    <tr>\n",
       "      <th>2477</th>\n",
       "      <td>Kerala</td>\n",
       "      <td>MALAPPURAM</td>\n",
       "      <td>2001</td>\n",
       "      <td>Whole Year</td>\n",
       "      <td>Rubber</td>\n",
       "      <td>29263.0</td>\n",
       "      <td>32904.0</td>\n",
       "      <td>1.124423</td>\n",
       "    </tr>\n",
       "    <tr>\n",
       "      <th>2506</th>\n",
       "      <td>Kerala</td>\n",
       "      <td>MALAPPURAM</td>\n",
       "      <td>2002</td>\n",
       "      <td>Whole Year</td>\n",
       "      <td>Rubber</td>\n",
       "      <td>29335.0</td>\n",
       "      <td>33883.0</td>\n",
       "      <td>1.155037</td>\n",
       "    </tr>\n",
       "    <tr>\n",
       "      <th>2799</th>\n",
       "      <td>Kerala</td>\n",
       "      <td>PALAKKAD</td>\n",
       "      <td>2001</td>\n",
       "      <td>Whole Year</td>\n",
       "      <td>Rubber</td>\n",
       "      <td>28985.0</td>\n",
       "      <td>31759.0</td>\n",
       "      <td>1.095705</td>\n",
       "    </tr>\n",
       "    <tr>\n",
       "      <th>2833</th>\n",
       "      <td>Kerala</td>\n",
       "      <td>PALAKKAD</td>\n",
       "      <td>2002</td>\n",
       "      <td>Whole Year</td>\n",
       "      <td>Rubber</td>\n",
       "      <td>29064.0</td>\n",
       "      <td>34334.0</td>\n",
       "      <td>1.181324</td>\n",
       "    </tr>\n",
       "    <tr>\n",
       "      <th>3171</th>\n",
       "      <td>Kerala</td>\n",
       "      <td>PATHANAMTHITTA</td>\n",
       "      <td>2001</td>\n",
       "      <td>Whole Year</td>\n",
       "      <td>Rubber</td>\n",
       "      <td>47862.0</td>\n",
       "      <td>62502.0</td>\n",
       "      <td>1.305879</td>\n",
       "    </tr>\n",
       "    <tr>\n",
       "      <th>3198</th>\n",
       "      <td>Kerala</td>\n",
       "      <td>PATHANAMTHITTA</td>\n",
       "      <td>2002</td>\n",
       "      <td>Whole Year</td>\n",
       "      <td>Rubber</td>\n",
       "      <td>47905.0</td>\n",
       "      <td>62833.0</td>\n",
       "      <td>1.311617</td>\n",
       "    </tr>\n",
       "    <tr>\n",
       "      <th>3455</th>\n",
       "      <td>Kerala</td>\n",
       "      <td>THIRUVANANTHAPURAM</td>\n",
       "      <td>2001</td>\n",
       "      <td>Whole Year</td>\n",
       "      <td>Rubber</td>\n",
       "      <td>28296.0</td>\n",
       "      <td>33586.0</td>\n",
       "      <td>1.186952</td>\n",
       "    </tr>\n",
       "    <tr>\n",
       "      <th>3482</th>\n",
       "      <td>Kerala</td>\n",
       "      <td>THIRUVANANTHAPURAM</td>\n",
       "      <td>2002</td>\n",
       "      <td>Whole Year</td>\n",
       "      <td>Rubber</td>\n",
       "      <td>28415.0</td>\n",
       "      <td>34206.0</td>\n",
       "      <td>1.203801</td>\n",
       "    </tr>\n",
       "    <tr>\n",
       "      <th>3731</th>\n",
       "      <td>Kerala</td>\n",
       "      <td>THRISSUR</td>\n",
       "      <td>2001</td>\n",
       "      <td>Whole Year</td>\n",
       "      <td>Rubber</td>\n",
       "      <td>13402.0</td>\n",
       "      <td>19762.0</td>\n",
       "      <td>1.474556</td>\n",
       "    </tr>\n",
       "    <tr>\n",
       "      <th>3759</th>\n",
       "      <td>Kerala</td>\n",
       "      <td>THRISSUR</td>\n",
       "      <td>2002</td>\n",
       "      <td>Whole Year</td>\n",
       "      <td>Rubber</td>\n",
       "      <td>13396.0</td>\n",
       "      <td>19932.0</td>\n",
       "      <td>1.487907</td>\n",
       "    </tr>\n",
       "    <tr>\n",
       "      <th>4013</th>\n",
       "      <td>Kerala</td>\n",
       "      <td>WAYANAD</td>\n",
       "      <td>2001</td>\n",
       "      <td>Whole Year</td>\n",
       "      <td>Rubber</td>\n",
       "      <td>6450.0</td>\n",
       "      <td>4038.0</td>\n",
       "      <td>0.626047</td>\n",
       "    </tr>\n",
       "    <tr>\n",
       "      <th>4043</th>\n",
       "      <td>Kerala</td>\n",
       "      <td>WAYANAD</td>\n",
       "      <td>2002</td>\n",
       "      <td>Whole Year</td>\n",
       "      <td>Rubber</td>\n",
       "      <td>6451.0</td>\n",
       "      <td>4753.0</td>\n",
       "      <td>0.736785</td>\n",
       "    </tr>\n",
       "  </tbody>\n",
       "</table>\n",
       "</div>"
      ],
      "text/plain": [
       "     State_Name       District_Name  Crop_Year       Season    Crop      Area  \\\n",
       "56       Kerala           ALAPPUZHA       2001  Whole Year   Rubber    3849.0   \n",
       "83       Kerala           ALAPPUZHA       2002  Whole Year   Rubber    3825.0   \n",
       "347      Kerala           ERNAKULAM       2001  Whole Year   Rubber   56710.0   \n",
       "374      Kerala           ERNAKULAM       2002  Whole Year   Rubber   56737.0   \n",
       "646      Kerala              IDUKKI       2001  Whole Year   Rubber   38123.0   \n",
       "679      Kerala              IDUKKI       2002  Whole Year   Rubber   38250.0   \n",
       "983      Kerala              KANNUR       2001  Whole Year   Rubber   34012.0   \n",
       "1010     Kerala              KANNUR       2002  Whole Year   Rubber   34085.0   \n",
       "1286     Kerala           KASARAGOD       2001  Whole Year   Rubber   22348.0   \n",
       "1313     Kerala           KASARAGOD       2002  Whole Year   Rubber   22420.0   \n",
       "1603     Kerala              KOLLAM       2001  Whole Year   Rubber   36863.0   \n",
       "1633     Kerala              KOLLAM       2002  Whole Year   Rubber   36797.0   \n",
       "1904     Kerala            KOTTAYAM       2001  Whole Year   Rubber  111301.0   \n",
       "1933     Kerala            KOTTAYAM       2002  Whole Year   Rubber  111776.0   \n",
       "2193     Kerala           KOZHIKODE       2001  Whole Year   Rubber   17575.0   \n",
       "2220     Kerala           KOZHIKODE       2002  Whole Year   Rubber   17591.0   \n",
       "2477     Kerala          MALAPPURAM       2001  Whole Year   Rubber   29263.0   \n",
       "2506     Kerala          MALAPPURAM       2002  Whole Year   Rubber   29335.0   \n",
       "2799     Kerala            PALAKKAD       2001  Whole Year   Rubber   28985.0   \n",
       "2833     Kerala            PALAKKAD       2002  Whole Year   Rubber   29064.0   \n",
       "3171     Kerala      PATHANAMTHITTA       2001  Whole Year   Rubber   47862.0   \n",
       "3198     Kerala      PATHANAMTHITTA       2002  Whole Year   Rubber   47905.0   \n",
       "3455     Kerala  THIRUVANANTHAPURAM       2001  Whole Year   Rubber   28296.0   \n",
       "3482     Kerala  THIRUVANANTHAPURAM       2002  Whole Year   Rubber   28415.0   \n",
       "3731     Kerala            THRISSUR       2001  Whole Year   Rubber   13402.0   \n",
       "3759     Kerala            THRISSUR       2002  Whole Year   Rubber   13396.0   \n",
       "4013     Kerala             WAYANAD       2001  Whole Year   Rubber    6450.0   \n",
       "4043     Kerala             WAYANAD       2002  Whole Year   Rubber    6451.0   \n",
       "\n",
       "      Production     Yield  \n",
       "56        4114.0  1.068849  \n",
       "83        4356.0  1.138824  \n",
       "347      73219.0  1.291113  \n",
       "374      73752.0  1.299892  \n",
       "646      45260.0  1.187210  \n",
       "679      45295.0  1.184183  \n",
       "983      38800.0  1.140774  \n",
       "1010     40658.0  1.192841  \n",
       "1286     24125.0  1.079515  \n",
       "1313     25795.0  1.150535  \n",
       "1603     46854.0  1.271031  \n",
       "1633     48386.0  1.314944  \n",
       "1904    140543.0  1.262729  \n",
       "1933    143244.0  1.281527  \n",
       "2193     22884.0  1.302077  \n",
       "2220     23490.0  1.335342  \n",
       "2477     32904.0  1.124423  \n",
       "2506     33883.0  1.155037  \n",
       "2799     31759.0  1.095705  \n",
       "2833     34334.0  1.181324  \n",
       "3171     62502.0  1.305879  \n",
       "3198     62833.0  1.311617  \n",
       "3455     33586.0  1.186952  \n",
       "3482     34206.0  1.203801  \n",
       "3731     19762.0  1.474556  \n",
       "3759     19932.0  1.487907  \n",
       "4013      4038.0  0.626047  \n",
       "4043      4753.0  0.736785  "
      ]
     },
     "execution_count": 21,
     "metadata": {},
     "output_type": "execute_result"
    }
   ],
   "source": [
    "rubber_data = crop_data[crop_data[\"Crop\"]==\"Rubber\"]\n",
    "rubber_data"
   ]
  },
  {
   "cell_type": "code",
   "execution_count": 22,
   "metadata": {},
   "outputs": [
    {
     "name": "stderr",
     "output_type": "stream",
     "text": [
      "C:\\Users\\jissi\\anaconda3\\lib\\site-packages\\seaborn\\_decorators.py:36: FutureWarning: Pass the following variables as keyword args: x, y. From version 0.12, the only valid positional argument will be `data`, and passing other arguments without an explicit keyword will result in an error or misinterpretation.\n",
      "  warnings.warn(\n"
     ]
    },
    {
     "data": {
      "text/plain": [
       "<AxesSubplot:xlabel='Season', ylabel='Yield'>"
      ]
     },
     "execution_count": 22,
     "metadata": {},
     "output_type": "execute_result"
    },
    {
     "data": {
      "image/png": "[encoded data removed]",
      "text/plain": [
       "<Figure size 432x288 with 1 Axes>"
      ]
     },
     "metadata": {
      "needs_background": "light"
     },
     "output_type": "display_data"
    }
   ],
   "source": [
    "sns.barplot(\"Season\",\"Yield\",data = rubber_data)"
   ]
  },
  {
   "cell_type": "code",
   "execution_count": 23,
   "metadata": {},
   "outputs": [
    {
     "name": "stderr",
     "output_type": "stream",
     "text": [
      "C:\\Users\\jissi\\anaconda3\\lib\\site-packages\\seaborn\\_decorators.py:36: FutureWarning: Pass the following variables as keyword args: x, y. From version 0.12, the only valid positional argument will be `data`, and passing other arguments without an explicit keyword will result in an error or misinterpretation.\n",
      "  warnings.warn(\n"
     ]
    },
    {
     "data": {
      "text/plain": [
       "(array([ 0,  1,  2,  3,  4,  5,  6,  7,  8,  9, 10, 11, 12, 13]),\n",
       " [Text(0, 0, 'ALAPPUZHA'),\n",
       "  Text(1, 0, 'ERNAKULAM'),\n",
       "  Text(2, 0, 'IDUKKI'),\n",
       "  Text(3, 0, 'KANNUR'),\n",
       "  Text(4, 0, 'KASARAGOD'),\n",
       "  Text(5, 0, 'KOLLAM'),\n",
       "  Text(6, 0, 'KOTTAYAM'),\n",
       "  Text(7, 0, 'KOZHIKODE'),\n",
       "  Text(8, 0, 'MALAPPURAM'),\n",
       "  Text(9, 0, 'PALAKKAD'),\n",
       "  Text(10, 0, 'PATHANAMTHITTA'),\n",
       "  Text(11, 0, 'THIRUVANANTHAPURAM'),\n",
       "  Text(12, 0, 'THRISSUR'),\n",
       "  Text(13, 0, 'WAYANAD')])"
      ]
     },
     "execution_count": 23,
     "metadata": {},
     "output_type": "execute_result"
    },
    {
     "data": {
      "image/png": "[encoded data removed]",
      "text/plain": [
       "<Figure size 432x288 with 1 Axes>"
      ]
     },
     "metadata": {
      "needs_background": "light"
     },
     "output_type": "display_data"
    }
   ],
   "source": [
    "sns.barplot(\"District_Name\",\"Production\",data=rubber_data)\n",
    "plt.xticks(rotation=90)"
   ]
  },
  {
   "cell_type": "code",
   "execution_count": 24,
   "metadata": {},
   "outputs": [
    {
     "name": "stderr",
     "output_type": "stream",
     "text": [
      "C:\\Users\\jissi\\anaconda3\\lib\\site-packages\\seaborn\\_decorators.py:36: FutureWarning: Pass the following variables as keyword args: x, y. From version 0.12, the only valid positional argument will be `data`, and passing other arguments without an explicit keyword will result in an error or misinterpretation.\n",
      "  warnings.warn(\n"
     ]
    },
    {
     "data": {
      "text/plain": [
       "(array([0, 1]), [Text(0, 0, '2001'), Text(1, 0, '2002')])"
      ]
     },
     "execution_count": 24,
     "metadata": {},
     "output_type": "execute_result"
    },
    {
     "data": {
      "image/png": "[encoded data removed]",
      "text/plain": [
       "<Figure size 432x288 with 1 Axes>"
      ]
     },
     "metadata": {
      "needs_background": "light"
     },
     "output_type": "display_data"
    }
   ],
   "source": [
    "sns.barplot(\"Crop_Year\",\"Production\",data=rubber_data)\n",
    "plt.xticks(rotation=90)"
   ]
  },
  {
   "cell_type": "markdown",
   "metadata": {},
   "source": [
    "# Coconut"
   ]
  },
  {
   "cell_type": "code",
   "execution_count": 25,
   "metadata": {},
   "outputs": [
    {
     "data": {
      "text/html": [
       "<div>\n",
       "<style scoped>\n",
       "    .dataframe tbody tr th:only-of-type {\n",
       "        vertical-align: middle;\n",
       "    }\n",
       "\n",
       "    .dataframe tbody tr th {\n",
       "        vertical-align: top;\n",
       "    }\n",
       "\n",
       "    .dataframe thead th {\n",
       "        text-align: right;\n",
       "    }\n",
       "</style>\n",
       "<table border=\"1\" class=\"dataframe\">\n",
       "  <thead>\n",
       "    <tr style=\"text-align: right;\">\n",
       "      <th></th>\n",
       "      <th>State_Name</th>\n",
       "      <th>District_Name</th>\n",
       "      <th>Crop_Year</th>\n",
       "      <th>Season</th>\n",
       "      <th>Crop</th>\n",
       "      <th>Area</th>\n",
       "      <th>Production</th>\n",
       "      <th>Yield</th>\n",
       "    </tr>\n",
       "  </thead>\n",
       "  <tbody>\n",
       "    <tr>\n",
       "      <th>3</th>\n",
       "      <td>Kerala</td>\n",
       "      <td>ALAPPUZHA</td>\n",
       "      <td>1997</td>\n",
       "      <td>Whole Year</td>\n",
       "      <td>Coconut</td>\n",
       "      <td>77893.00</td>\n",
       "      <td>399000.0</td>\n",
       "      <td>5.122412</td>\n",
       "    </tr>\n",
       "    <tr>\n",
       "      <th>12</th>\n",
       "      <td>Kerala</td>\n",
       "      <td>ALAPPUZHA</td>\n",
       "      <td>1998</td>\n",
       "      <td>Whole Year</td>\n",
       "      <td>Coconut</td>\n",
       "      <td>58621.00</td>\n",
       "      <td>288000000.0</td>\n",
       "      <td>4912.915167</td>\n",
       "    </tr>\n",
       "    <tr>\n",
       "      <th>26</th>\n",
       "      <td>Kerala</td>\n",
       "      <td>ALAPPUZHA</td>\n",
       "      <td>1999</td>\n",
       "      <td>Whole Year</td>\n",
       "      <td>Coconut</td>\n",
       "      <td>61270.00</td>\n",
       "      <td>333000000.0</td>\n",
       "      <td>5434.960013</td>\n",
       "    </tr>\n",
       "    <tr>\n",
       "      <th>40</th>\n",
       "      <td>Kerala</td>\n",
       "      <td>ALAPPUZHA</td>\n",
       "      <td>2000</td>\n",
       "      <td>Whole Year</td>\n",
       "      <td>Coconut</td>\n",
       "      <td>59775.00</td>\n",
       "      <td>288000000.0</td>\n",
       "      <td>4818.067754</td>\n",
       "    </tr>\n",
       "    <tr>\n",
       "      <th>54</th>\n",
       "      <td>Kerala</td>\n",
       "      <td>ALAPPUZHA</td>\n",
       "      <td>2001</td>\n",
       "      <td>Whole Year</td>\n",
       "      <td>Coconut</td>\n",
       "      <td>57047.00</td>\n",
       "      <td>280000000.0</td>\n",
       "      <td>4908.233562</td>\n",
       "    </tr>\n",
       "    <tr>\n",
       "      <th>...</th>\n",
       "      <td>...</td>\n",
       "      <td>...</td>\n",
       "      <td>...</td>\n",
       "      <td>...</td>\n",
       "      <td>...</td>\n",
       "      <td>...</td>\n",
       "      <td>...</td>\n",
       "      <td>...</td>\n",
       "    </tr>\n",
       "    <tr>\n",
       "      <th>4180</th>\n",
       "      <td>Kerala</td>\n",
       "      <td>WAYANAD</td>\n",
       "      <td>2010</td>\n",
       "      <td>Whole Year</td>\n",
       "      <td>Coconut</td>\n",
       "      <td>10043.34</td>\n",
       "      <td>50745000.0</td>\n",
       "      <td>5052.602023</td>\n",
       "    </tr>\n",
       "    <tr>\n",
       "      <th>4193</th>\n",
       "      <td>Kerala</td>\n",
       "      <td>WAYANAD</td>\n",
       "      <td>2011</td>\n",
       "      <td>Whole Year</td>\n",
       "      <td>Coconut</td>\n",
       "      <td>10515.38</td>\n",
       "      <td>48039000.0</td>\n",
       "      <td>4568.451164</td>\n",
       "    </tr>\n",
       "    <tr>\n",
       "      <th>4207</th>\n",
       "      <td>Kerala</td>\n",
       "      <td>WAYANAD</td>\n",
       "      <td>2012</td>\n",
       "      <td>Whole Year</td>\n",
       "      <td>Coconut</td>\n",
       "      <td>9995.00</td>\n",
       "      <td>46000000.0</td>\n",
       "      <td>4602.301151</td>\n",
       "    </tr>\n",
       "    <tr>\n",
       "      <th>4232</th>\n",
       "      <td>Kerala</td>\n",
       "      <td>WAYANAD</td>\n",
       "      <td>2013</td>\n",
       "      <td>Whole Year</td>\n",
       "      <td>Coconut</td>\n",
       "      <td>11725.00</td>\n",
       "      <td>65000000.0</td>\n",
       "      <td>5543.710021</td>\n",
       "    </tr>\n",
       "    <tr>\n",
       "      <th>4251</th>\n",
       "      <td>Kerala</td>\n",
       "      <td>WAYANAD</td>\n",
       "      <td>2014</td>\n",
       "      <td>Whole Year</td>\n",
       "      <td>Coconut</td>\n",
       "      <td>10326.00</td>\n",
       "      <td>59000000.0</td>\n",
       "      <td>5713.732326</td>\n",
       "    </tr>\n",
       "  </tbody>\n",
       "</table>\n",
       "<p>252 rows × 8 columns</p>\n",
       "</div>"
      ],
      "text/plain": [
       "     State_Name District_Name  Crop_Year       Season      Crop      Area  \\\n",
       "3        Kerala     ALAPPUZHA       1997  Whole Year   Coconut   77893.00   \n",
       "12       Kerala     ALAPPUZHA       1998  Whole Year   Coconut   58621.00   \n",
       "26       Kerala     ALAPPUZHA       1999  Whole Year   Coconut   61270.00   \n",
       "40       Kerala     ALAPPUZHA       2000  Whole Year   Coconut   59775.00   \n",
       "54       Kerala     ALAPPUZHA       2001  Whole Year   Coconut   57047.00   \n",
       "...         ...           ...        ...          ...       ...       ...   \n",
       "4180     Kerala       WAYANAD       2010  Whole Year   Coconut   10043.34   \n",
       "4193     Kerala       WAYANAD       2011  Whole Year   Coconut   10515.38   \n",
       "4207     Kerala       WAYANAD       2012  Whole Year   Coconut    9995.00   \n",
       "4232     Kerala       WAYANAD       2013  Whole Year   Coconut   11725.00   \n",
       "4251     Kerala       WAYANAD       2014  Whole Year   Coconut   10326.00   \n",
       "\n",
       "       Production        Yield  \n",
       "3        399000.0     5.122412  \n",
       "12    288000000.0  4912.915167  \n",
       "26    333000000.0  5434.960013  \n",
       "40    288000000.0  4818.067754  \n",
       "54    280000000.0  4908.233562  \n",
       "...           ...          ...  \n",
       "4180   50745000.0  5052.602023  \n",
       "4193   48039000.0  4568.451164  \n",
       "4207   46000000.0  4602.301151  \n",
       "4232   65000000.0  5543.710021  \n",
       "4251   59000000.0  5713.732326  \n",
       "\n",
       "[252 rows x 8 columns]"
      ]
     },
     "execution_count": 25,
     "metadata": {},
     "output_type": "execute_result"
    }
   ],
   "source": [
    "coconut_data = crop_data[crop_data[\"Crop\"]==\"Coconut \"]\n",
    "coconut_data"
   ]
  },
  {
   "cell_type": "code",
   "execution_count": 26,
   "metadata": {},
   "outputs": [
    {
     "name": "stderr",
     "output_type": "stream",
     "text": [
      "C:\\Users\\jissi\\anaconda3\\lib\\site-packages\\seaborn\\_decorators.py:36: FutureWarning: Pass the following variables as keyword args: x, y. From version 0.12, the only valid positional argument will be `data`, and passing other arguments without an explicit keyword will result in an error or misinterpretation.\n",
      "  warnings.warn(\n"
     ]
    },
    {
     "data": {
      "text/plain": [
       "<AxesSubplot:xlabel='Season', ylabel='Yield'>"
      ]
     },
     "execution_count": 26,
     "metadata": {},
     "output_type": "execute_result"
    },
    {
     "data": {
      "image/png": "[encoded data removed]",
      "text/plain": [
       "<Figure size 432x288 with 1 Axes>"
      ]
     },
     "metadata": {
      "needs_background": "light"
     },
     "output_type": "display_data"
    }
   ],
   "source": [
    "sns.barplot(\"Season\",\"Yield\",data = coconut_data)"
   ]
  },
  {
   "cell_type": "code",
   "execution_count": 27,
   "metadata": {},
   "outputs": [
    {
     "name": "stderr",
     "output_type": "stream",
     "text": [
      "C:\\Users\\jissi\\anaconda3\\lib\\site-packages\\seaborn\\_decorators.py:36: FutureWarning: Pass the following variables as keyword args: x, y. From version 0.12, the only valid positional argument will be `data`, and passing other arguments without an explicit keyword will result in an error or misinterpretation.\n",
      "  warnings.warn(\n"
     ]
    },
    {
     "data": {
      "text/plain": [
       "(array([1995. , 1997.5, 2000. , 2002.5, 2005. , 2007.5, 2010. , 2012.5,\n",
       "        2015. ]),\n",
       " [Text(0, 0, ''),\n",
       "  Text(0, 0, ''),\n",
       "  Text(0, 0, ''),\n",
       "  Text(0, 0, ''),\n",
       "  Text(0, 0, ''),\n",
       "  Text(0, 0, ''),\n",
       "  Text(0, 0, ''),\n",
       "  Text(0, 0, ''),\n",
       "  Text(0, 0, '')])"
      ]
     },
     "execution_count": 27,
     "metadata": {},
     "output_type": "execute_result"
    },
    {
     "data": {
      "image/png": "[encoded data removed]",
      "text/plain": [
       "<Figure size 432x288 with 1 Axes>"
      ]
     },
     "metadata": {
      "needs_background": "light"
     },
     "output_type": "display_data"
    }
   ],
   "source": [
    "sns.lineplot(\"Crop_Year\",\"Yield\",data=coconut_data)\n",
    "plt.xticks(rotation=90)"
   ]
  },
  {
   "cell_type": "code",
   "execution_count": 28,
   "metadata": {},
   "outputs": [
    {
     "name": "stderr",
     "output_type": "stream",
     "text": [
      "C:\\Users\\jissi\\anaconda3\\lib\\site-packages\\seaborn\\_decorators.py:36: FutureWarning: Pass the following variables as keyword args: x, y. From version 0.12, the only valid positional argument will be `data`, and passing other arguments without an explicit keyword will result in an error or misinterpretation.\n",
      "  warnings.warn(\n"
     ]
    },
    {
     "data": {
      "text/plain": [
       "(array([ 0,  1,  2,  3,  4,  5,  6,  7,  8,  9, 10, 11, 12, 13]),\n",
       " [Text(0, 0, 'ALAPPUZHA'),\n",
       "  Text(1, 0, 'ERNAKULAM'),\n",
       "  Text(2, 0, 'IDUKKI'),\n",
       "  Text(3, 0, 'KANNUR'),\n",
       "  Text(4, 0, 'KASARAGOD'),\n",
       "  Text(5, 0, 'KOLLAM'),\n",
       "  Text(6, 0, 'KOTTAYAM'),\n",
       "  Text(7, 0, 'KOZHIKODE'),\n",
       "  Text(8, 0, 'MALAPPURAM'),\n",
       "  Text(9, 0, 'PALAKKAD'),\n",
       "  Text(10, 0, 'PATHANAMTHITTA'),\n",
       "  Text(11, 0, 'THIRUVANANTHAPURAM'),\n",
       "  Text(12, 0, 'THRISSUR'),\n",
       "  Text(13, 0, 'WAYANAD')])"
      ]
     },
     "execution_count": 28,
     "metadata": {},
     "output_type": "execute_result"
    },
    {
     "data": {
      "image/png": "[encoded data removed]",
      "text/plain": [
       "<Figure size 432x288 with 1 Axes>"
      ]
     },
     "metadata": {
      "needs_background": "light"
     },
     "output_type": "display_data"
    }
   ],
   "source": [
    "sns.barplot(\"District_Name\",\"Production\",data=coconut_data)\n",
    "plt.xticks(rotation=90)"
   ]
  },
  {
   "cell_type": "code",
   "execution_count": 29,
   "metadata": {},
   "outputs": [
    {
     "name": "stderr",
     "output_type": "stream",
     "text": [
      "C:\\Users\\jissi\\anaconda3\\lib\\site-packages\\seaborn\\_decorators.py:36: FutureWarning: Pass the following variables as keyword args: x, y. From version 0.12, the only valid positional argument will be `data`, and passing other arguments without an explicit keyword will result in an error or misinterpretation.\n",
      "  warnings.warn(\n"
     ]
    },
    {
     "data": {
      "text/plain": [
       "(array([ 0,  1,  2,  3,  4,  5,  6,  7,  8,  9, 10, 11, 12, 13, 14, 15, 16,\n",
       "        17]),\n",
       " [Text(0, 0, '1997'),\n",
       "  Text(1, 0, '1998'),\n",
       "  Text(2, 0, '1999'),\n",
       "  Text(3, 0, '2000'),\n",
       "  Text(4, 0, '2001'),\n",
       "  Text(5, 0, '2002'),\n",
       "  Text(6, 0, '2003'),\n",
       "  Text(7, 0, '2004'),\n",
       "  Text(8, 0, '2005'),\n",
       "  Text(9, 0, '2006'),\n",
       "  Text(10, 0, '2007'),\n",
       "  Text(11, 0, '2008'),\n",
       "  Text(12, 0, '2009'),\n",
       "  Text(13, 0, '2010'),\n",
       "  Text(14, 0, '2011'),\n",
       "  Text(15, 0, '2012'),\n",
       "  Text(16, 0, '2013'),\n",
       "  Text(17, 0, '2014')])"
      ]
     },
     "execution_count": 29,
     "metadata": {},
     "output_type": "execute_result"
    },
    {
     "data": {
      "image/png": "[encoded data removed]",
      "text/plain": [
       "<Figure size 432x288 with 1 Axes>"
      ]
     },
     "metadata": {
      "needs_background": "light"
     },
     "output_type": "display_data"
    }
   ],
   "source": [
    "sns.barplot(\"Crop_Year\",\"Production\",data=coconut_data)\n",
    "plt.xticks(rotation=90)"
   ]
  },
  {
   "cell_type": "markdown",
   "metadata": {},
   "source": [
    "# Coffee"
   ]
  },
  {
   "cell_type": "code",
   "execution_count": 30,
   "metadata": {},
   "outputs": [
    {
     "data": {
      "text/html": [
       "<div>\n",
       "<style scoped>\n",
       "    .dataframe tbody tr th:only-of-type {\n",
       "        vertical-align: middle;\n",
       "    }\n",
       "\n",
       "    .dataframe tbody tr th {\n",
       "        vertical-align: top;\n",
       "    }\n",
       "\n",
       "    .dataframe thead th {\n",
       "        text-align: right;\n",
       "    }\n",
       "</style>\n",
       "<table border=\"1\" class=\"dataframe\">\n",
       "  <thead>\n",
       "    <tr style=\"text-align: right;\">\n",
       "      <th></th>\n",
       "      <th>State_Name</th>\n",
       "      <th>District_Name</th>\n",
       "      <th>Crop_Year</th>\n",
       "      <th>Season</th>\n",
       "      <th>Crop</th>\n",
       "      <th>Area</th>\n",
       "      <th>Production</th>\n",
       "      <th>Yield</th>\n",
       "    </tr>\n",
       "  </thead>\n",
       "  <tbody>\n",
       "    <tr>\n",
       "      <th>643</th>\n",
       "      <td>Kerala</td>\n",
       "      <td>IDUKKI</td>\n",
       "      <td>2001</td>\n",
       "      <td>Whole Year</td>\n",
       "      <td>Coffee</td>\n",
       "      <td>12635.0</td>\n",
       "      <td>9130.0</td>\n",
       "      <td>0.722596</td>\n",
       "    </tr>\n",
       "    <tr>\n",
       "      <th>668</th>\n",
       "      <td>Kerala</td>\n",
       "      <td>IDUKKI</td>\n",
       "      <td>2002</td>\n",
       "      <td>Whole Year</td>\n",
       "      <td>Coffee</td>\n",
       "      <td>11490.0</td>\n",
       "      <td>8475.0</td>\n",
       "      <td>0.737598</td>\n",
       "    </tr>\n",
       "    <tr>\n",
       "      <th>2797</th>\n",
       "      <td>Kerala</td>\n",
       "      <td>PALAKKAD</td>\n",
       "      <td>2001</td>\n",
       "      <td>Whole Year</td>\n",
       "      <td>Coffee</td>\n",
       "      <td>4650.0</td>\n",
       "      <td>3450.0</td>\n",
       "      <td>0.741935</td>\n",
       "    </tr>\n",
       "    <tr>\n",
       "      <th>2823</th>\n",
       "      <td>Kerala</td>\n",
       "      <td>PALAKKAD</td>\n",
       "      <td>2002</td>\n",
       "      <td>Whole Year</td>\n",
       "      <td>Coffee</td>\n",
       "      <td>4650.0</td>\n",
       "      <td>2150.0</td>\n",
       "      <td>0.462366</td>\n",
       "    </tr>\n",
       "    <tr>\n",
       "      <th>4011</th>\n",
       "      <td>Kerala</td>\n",
       "      <td>WAYANAD</td>\n",
       "      <td>2001</td>\n",
       "      <td>Whole Year</td>\n",
       "      <td>Coffee</td>\n",
       "      <td>67510.0</td>\n",
       "      <td>54110.0</td>\n",
       "      <td>0.801511</td>\n",
       "    </tr>\n",
       "    <tr>\n",
       "      <th>4033</th>\n",
       "      <td>Kerala</td>\n",
       "      <td>WAYANAD</td>\n",
       "      <td>2002</td>\n",
       "      <td>Whole Year</td>\n",
       "      <td>Coffee</td>\n",
       "      <td>66973.0</td>\n",
       "      <td>52697.0</td>\n",
       "      <td>0.786839</td>\n",
       "    </tr>\n",
       "  </tbody>\n",
       "</table>\n",
       "</div>"
      ],
      "text/plain": [
       "     State_Name District_Name  Crop_Year       Season    Crop     Area  \\\n",
       "643      Kerala        IDUKKI       2001  Whole Year   Coffee  12635.0   \n",
       "668      Kerala        IDUKKI       2002  Whole Year   Coffee  11490.0   \n",
       "2797     Kerala      PALAKKAD       2001  Whole Year   Coffee   4650.0   \n",
       "2823     Kerala      PALAKKAD       2002  Whole Year   Coffee   4650.0   \n",
       "4011     Kerala       WAYANAD       2001  Whole Year   Coffee  67510.0   \n",
       "4033     Kerala       WAYANAD       2002  Whole Year   Coffee  66973.0   \n",
       "\n",
       "      Production     Yield  \n",
       "643       9130.0  0.722596  \n",
       "668       8475.0  0.737598  \n",
       "2797      3450.0  0.741935  \n",
       "2823      2150.0  0.462366  \n",
       "4011     54110.0  0.801511  \n",
       "4033     52697.0  0.786839  "
      ]
     },
     "execution_count": 30,
     "metadata": {},
     "output_type": "execute_result"
    }
   ],
   "source": [
    "coffee_data = crop_data[crop_data[\"Crop\"]==\"Coffee\"]\n",
    "coffee_data"
   ]
  },
  {
   "cell_type": "code",
   "execution_count": 31,
   "metadata": {},
   "outputs": [
    {
     "name": "stderr",
     "output_type": "stream",
     "text": [
      "C:\\Users\\jissi\\anaconda3\\lib\\site-packages\\seaborn\\_decorators.py:36: FutureWarning: Pass the following variables as keyword args: x, y. From version 0.12, the only valid positional argument will be `data`, and passing other arguments without an explicit keyword will result in an error or misinterpretation.\n",
      "  warnings.warn(\n"
     ]
    },
    {
     "data": {
      "text/plain": [
       "<AxesSubplot:xlabel='Season', ylabel='Yield'>"
      ]
     },
     "execution_count": 31,
     "metadata": {},
     "output_type": "execute_result"
    },
    {
     "data": {
      "image/png": "[encoded data removed]",
      "text/plain": [
       "<Figure size 432x288 with 1 Axes>"
      ]
     },
     "metadata": {
      "needs_background": "light"
     },
     "output_type": "display_data"
    }
   ],
   "source": [
    "sns.barplot(\"Season\",\"Yield\",data = coffee_data)"
   ]
  },
  {
   "cell_type": "code",
   "execution_count": 32,
   "metadata": {},
   "outputs": [
    {
     "name": "stderr",
     "output_type": "stream",
     "text": [
      "C:\\Users\\jissi\\anaconda3\\lib\\site-packages\\seaborn\\_decorators.py:36: FutureWarning: Pass the following variables as keyword args: x, y. From version 0.12, the only valid positional argument will be `data`, and passing other arguments without an explicit keyword will result in an error or misinterpretation.\n",
      "  warnings.warn(\n"
     ]
    },
    {
     "data": {
      "text/plain": [
       "(array([0, 1, 2]),\n",
       " [Text(0, 0, 'IDUKKI'), Text(1, 0, 'PALAKKAD'), Text(2, 0, 'WAYANAD')])"
      ]
     },
     "execution_count": 32,
     "metadata": {},
     "output_type": "execute_result"
    },
    {
     "data": {
      "image/png": "[encoded data removed]",
      "text/plain": [
       "<Figure size 432x288 with 1 Axes>"
      ]
     },
     "metadata": {
      "needs_background": "light"
     },
     "output_type": "display_data"
    }
   ],
   "source": [
    "sns.barplot(\"District_Name\",\"Production\",data=coffee_data)\n",
    "plt.xticks(rotation=90)"
   ]
  },
  {
   "cell_type": "code",
   "execution_count": 33,
   "metadata": {},
   "outputs": [
    {
     "name": "stderr",
     "output_type": "stream",
     "text": [
      "C:\\Users\\jissi\\anaconda3\\lib\\site-packages\\seaborn\\_decorators.py:36: FutureWarning: Pass the following variables as keyword args: x, y. From version 0.12, the only valid positional argument will be `data`, and passing other arguments without an explicit keyword will result in an error or misinterpretation.\n",
      "  warnings.warn(\n"
     ]
    },
    {
     "data": {
      "text/plain": [
       "(array([0, 1]), [Text(0, 0, '2001'), Text(1, 0, '2002')])"
      ]
     },
     "execution_count": 33,
     "metadata": {},
     "output_type": "execute_result"
    },
    {
     "data": {
      "image/png": "[encoded data removed]",
      "text/plain": [
       "<Figure size 432x288 with 1 Axes>"
      ]
     },
     "metadata": {
      "needs_background": "light"
     },
     "output_type": "display_data"
    }
   ],
   "source": [
    "sns.barplot(\"Crop_Year\",\"Production\",data=coffee_data)\n",
    "plt.xticks(rotation=90)"
   ]
  },
  {
   "cell_type": "code",
   "execution_count": null,
   "metadata": {},
   "outputs": [],
   "source": []
  }
 ],
 "metadata": {
  "kernelspec": {
   "display_name": "Python 3.10.5 64-bit",
   "language": "python",
   "name": "python3"
  },
  "language_info": {
   "codemirror_mode": {
    "name": "ipython",
    "version": 3
   },
   "file_extension": ".py",
   "mimetype": "text/x-python",
   "name": "python",
   "nbconvert_exporter": "python",
   "pygments_lexer": "ipython3",
   "version": "3.10.5"
  },
  "vscode": {
   "interpreter": {
    "hash": "26de051ba29f2982a8de78e945f0abaf191376122a1563185a90213a26c5da77"
   }
  }
 },
 "nbformat": 4,
 "nbformat_minor": 4
}
